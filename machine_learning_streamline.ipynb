{
 "cells": [
  {
   "cell_type": "code",
   "execution_count": null,
   "id": "04ac4d30",
   "metadata": {},
   "outputs": [
    {
     "name": "stdout",
     "output_type": "stream",
     "text": [
      "PKT edited Jack Reddick:  with 95 bytes\n",
      "80.6.171.153 edited List of Undertale and Deltarune characters: /* Protected edit request on 31 October 2025 */ new section with 291 bytes\n",
      "Sanictehhegehog107 edited Virginia Votes Rally: Adding WikiProject tags using [[WP:AFCSW|AfC-submit-wizard]] with 54 bytes\n"
     ]
    }
   ],
   "source": [
    "\n",
    "import json\n",
    "from requests_sse import EventSource\n",
    "import pandas as pd\n",
    "import time\n",
    "\n",
    "url = 'https://stream.wikimedia.org/v2/stream/mediawiki.recentchange'\n",
    "\n",
    "# Adding headers can help in case the server requires specific request formatting\n",
    "headers = {\n",
    "    'User-Agent': 'Mozilla/5.0 (Windows NT 10.0; Win64; x64) AppleWebKit/537.36 (KHTML, like Gecko) Chrome/85.0.4183.83 Safari/537.36'\n",
    "}\n",
    "\n",
    "# Function to determine if the change is to a talk page\n",
    "def is_talk_page(title):\n",
    "    # Typically, talk pages start with \"Talk:\" or \"<Language> talk:\"\n",
    "    # This will handle \"Talk:\", \"User talk:\", \"Wikipedia talk:\", etc.\n",
    "    return any(title.lower().startswith(prefix) for prefix in ['talk:', 'wikipedia talk:', 'file talk:', \n",
    "                                                              'template talk:', 'help talk:', 'category talk:', 'portal talk:',\n",
    "                                                              'book talk:', 'draft talk:', 'timedtext talk:', 'module talk:'])\n",
    "# Helper function to clean the talk prefix\n",
    "def clean_talk_prefix(title):\n",
    "    prefixes = ['talk:', 'wikipedia talk:', 'file talk:', 'template talk:',\n",
    "                'help talk:', 'category talk:', 'portal talk:', 'book talk:',\n",
    "                'draft talk:', 'timedtext talk:', 'module talk:']\n",
    "    title_lower = title.lower()\n",
    "    for prefix in prefixes:\n",
    "        if title_lower.startswith(prefix):\n",
    "            return title[len(prefix):].strip()  # Remove prefix and extra spaces\n",
    "    return title\n",
    "\n",
    "data_list= [[],[],[]]\n",
    "t_end = time.time() + 60\n",
    "# Setting up the EventSource connection\n",
    "with EventSource(url, headers=headers) as stream:\n",
    "    for event in stream:\n",
    "        if time.time() > t_end:\n",
    "            break\n",
    "\n",
    "        if event.type == 'message':\n",
    "            try:\n",
    "                # Parse the event data as JSON\n",
    "                change = json.loads(event.data)\n",
    "                # Check if the change is related to a talk page from Wikipedia\n",
    "            \n",
    "                if change['wiki'].endswith('wiki') and is_talk_page(change['title']) and change['bot'] == False and change['wiki']=='enwiki':\n",
    "                    #get the number of bytes\n",
    "                    old_len = change.get('length', {}).get('old') #old bytes\n",
    "                    new_len = change.get('length', {}).get('new') #edited bytes\n",
    "                    if old_len is not None and new_len is not None:\n",
    "                        byte_diff = abs(new_len - old_len)\n",
    "                    else:\n",
    "                        byte_diff = None #in case no data\n",
    "                \n",
    "                    print('{user} edited {title}: {comment} with {byte_diff} bytes'.format(\n",
    "                        user=change['user'], title=clean_talk_prefix(change['title']), comment = change['comment'], byte_diff = byte_diff))\n",
    "                    data_list[0].append(clean_talk_prefix(change['title']))\n",
    "                    data_list[1].append(change['comment'])\n",
    "                    data_list[2].append(byte_diff)\n",
    "                   \n",
    "                    data = {\n",
    "                        \"Title\": data_list[0],\n",
    "                        \"Comment\": data_list[1],\n",
    "                        \"Bytes\": data_list[2]\n",
    "                    }\n",
    "            \n",
    "            except ValueError: \n",
    "                # In case of any issues in parsing JSON data\n",
    "                continue\n",
    "\n",
    "df = pd.DataFrame(data)\n",
    "df.to_csv('edit.csv',index = False)\n",
    "\n",
    "\n",
    "\n",
    "\n",
    "\n"
   ]
  },
  {
   "cell_type": "code",
   "execution_count": null,
   "id": "d9bdb026",
   "metadata": {},
   "outputs": [],
   "source": []
  },
  {
   "cell_type": "code",
   "execution_count": null,
   "id": "6f1b1534",
   "metadata": {},
   "outputs": [],
   "source": []
  }
 ],
 "metadata": {
  "kernelspec": {
   "display_name": "Python 3",
   "language": "python",
   "name": "python3"
  },
  "language_info": {
   "codemirror_mode": {
    "name": "ipython",
    "version": 3
   },
   "file_extension": ".py",
   "mimetype": "text/x-python",
   "name": "python",
   "nbconvert_exporter": "python",
   "pygments_lexer": "ipython3",
   "version": "3.12.1"
  }
 },
 "nbformat": 4,
 "nbformat_minor": 5
}
