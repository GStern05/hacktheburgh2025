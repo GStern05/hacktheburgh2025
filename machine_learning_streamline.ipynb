{
 "cells": [
  {
   "cell_type": "code",
   "execution_count": null,
   "id": "04ac4d30",
   "metadata": {},
   "outputs": [
    {
     "name": "stdout",
     "output_type": "stream",
     "text": [
      "71.163.151.156 edited Talk:Stephen Mitchell (translator) on enwiki: /* To Mr. Mitchell */ Reply\n",
      "LuniZunie edited User talk:Arstotskiano on enwiki: Welcome to Wikipedia! ([[WP:AntiVandal|AV]])\n",
      "XLinkBot edited User talk:Flapjack06 on enwiki: BOT - Notifying user of reverted link additions to [[Cumberland Law Review]] (good faith remark) - 1/0/0 - links: web.archive.org/web/20250914101850/blurblawg.typepad.com/files/harper-lee-symposium.pdf, blurblawg.typepad.com/files/harper-lee-symposium.pdf\n"
     ]
    }
   ],
   "source": [
    "import json\n",
    "from requests_sse import EventSource\n",
    "import pandas as pd\n",
    "import time\n",
    "\n",
    "url = 'https://stream.wikimedia.org/v2/stream/mediawiki.recentchange'\n",
    "\n",
    "# Adding headers can help in case the server requires specific request formatting\n",
    "headers = {\n",
    "    'User-Agent': 'Mozilla/5.0 (Windows NT 10.0; Win64; x64) AppleWebKit/537.36 (KHTML, like Gecko) Chrome/85.0.4183.83 Safari/537.36'\n",
    "}\n",
    "\n",
    "# Function to determine if the change is to a talk page\n",
    "def is_talk_page(title):\n",
    "    # Typically, talk pages start with \"Talk:\" or \"<Language> talk:\"\n",
    "    # This will handle \"Talk:\", \"User talk:\", \"Wikipedia talk:\", etc.\n",
    "    return any(title.lower().startswith(prefix) for prefix in ['talk:', 'user talk:', 'wikipedia talk:', 'file talk:', \n",
    "                                                              'template talk:', 'help talk:', 'category talk:', 'portal talk:',\n",
    "                                                              'book talk:', 'draft talk:', 'timedtext talk:', 'module talk:'])\n",
    "list= [[],[],[]]\n",
    "t_end = time.time() + 40\n",
    "# Setting up the EventSource connection\n",
    "with EventSource(url, headers=headers) as stream:\n",
    "    for event in stream:\n",
    "        if time.time() > t_end:\n",
    "            break\n",
    "\n",
    "        if event.type == 'message':\n",
    "            try:\n",
    "                # Parse the event data as JSON\n",
    "                change = json.loads(event.data)\n",
    "                # Check if the change is related to a talk page from Wikipedia\n",
    "                if change['wiki'].endswith('wiki') and is_talk_page(change['title']) and change['bot'] == False and change['wiki']=='enwiki':\n",
    "                    print('{user} edited {title} on {wiki}: {comment}'.format(\n",
    "                        user=change['user'], title=change['title'], wiki=change['wiki'], comment = change['comment']))\n",
    "                    list[0].append(change['title'])\n",
    "                    list[1].append(change['user'])\n",
    "                    list[2].append(change['comment'])\n",
    "                    data = {\n",
    "                        \"Title\": list[0],\n",
    "                        \"User\": list[1],\n",
    "                        \"Comment\": list[2]\n",
    "                    }\n",
    "            \n",
    "            except ValueError:\n",
    "                # In case of any issues in parsing JSON data\n",
    "                continue\n",
    "\n",
    "df = pd.DataFrame(data)\n",
    "print(df)\n",
    "\n",
    "\n"
   ]
  },
  {
   "cell_type": "code",
   "execution_count": null,
   "id": "6f1b1534",
   "metadata": {},
   "outputs": [],
   "source": []
  }
 ],
 "metadata": {
  "kernelspec": {
   "display_name": "Python 3",
   "language": "python",
   "name": "python3"
  },
  "language_info": {
   "codemirror_mode": {
    "name": "ipython",
    "version": 3
   },
   "file_extension": ".py",
   "mimetype": "text/x-python",
   "name": "python",
   "nbconvert_exporter": "python",
   "pygments_lexer": "ipython3",
   "version": "3.12.1"
  }
 },
 "nbformat": 4,
 "nbformat_minor": 5
}
